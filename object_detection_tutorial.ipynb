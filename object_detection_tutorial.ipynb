{
  "nbformat": 4,
  "nbformat_minor": 0,
  "metadata": {
    "colab": {
      "name": "object_detection_tutorial.ipynb",
      "provenance": [],
      "authorship_tag": "ABX9TyO0ODVHAEKaQnprp/4j0yAp",
      "include_colab_link": true
    },
    "kernelspec": {
      "name": "python3",
      "display_name": "Python 3"
    }
  },
  "cells": [
    {
      "cell_type": "markdown",
      "metadata": {
        "id": "view-in-github",
        "colab_type": "text"
      },
      "source": [
        "<a href=\"https://colab.research.google.com/github/duncansamuelgeorgefreeman/colab/blob/master/object_detection_tutorial.ipynb\" target=\"_parent\"><img src=\"https://colab.research.google.com/assets/colab-badge.svg\" alt=\"Open In Colab\"/></a>"
      ]
    },
    {
      "cell_type": "code",
      "metadata": {
        "id": "poUV9qRUatHS",
        "colab_type": "code",
        "colab": {}
      },
      "source": [
        "import os\n",
        "import pathlib"
      ],
      "execution_count": 0,
      "outputs": []
    },
    {
      "cell_type": "code",
      "metadata": {
        "id": "o8rzjAwvbSyV",
        "colab_type": "code",
        "colab": {}
      },
      "source": [
        ""
      ],
      "execution_count": 0,
      "outputs": []
    },
    {
      "cell_type": "markdown",
      "metadata": {
        "id": "PCNjVphYbUJl",
        "colab_type": "text"
      },
      "source": [
        "**Get tensorflow/models or cd to parent directory of repository.**"
      ]
    },
    {
      "cell_type": "code",
      "metadata": {
        "id": "c8UU8kVPbcnS",
        "colab_type": "code",
        "outputId": "28c44e97-701f-45d3-ac97-6f87e94af618",
        "colab": {
          "base_uri": "https://localhost:8080/",
          "height": 153
        }
      },
      "source": [
        "if \"models\" in pathlib.Path.cwd().parts:\n",
        "  while \"models\" in pathlib.Path.cwd().parts:\n",
        "    os.chdir('..')\n",
        "elif not pathlib.Path(\"models\").exists():\n",
        "    !git clone --depth 1 https://github.com/tensorflow/models"
      ],
      "execution_count": 2,
      "outputs": [
        {
          "output_type": "stream",
          "text": [
            "Cloning into 'models'...\n",
            "remote: Enumerating objects: 2590, done.\u001b[K\n",
            "remote: Counting objects: 100% (2590/2590), done.\u001b[K\n",
            "remote: Compressing objects: 100% (2257/2257), done.\u001b[K\n",
            "remote: Total 2590 (delta 504), reused 1360 (delta 295), pack-reused 0\u001b[K\n",
            "Receiving objects: 100% (2590/2590), 124.10 MiB | 30.08 MiB/s, done.\n",
            "Resolving deltas: 100% (504/504), done.\n",
            "Checking out files: 100% (2497/2497), done.\n"
          ],
          "name": "stdout"
        }
      ]
    },
    {
      "cell_type": "markdown",
      "metadata": {
        "id": "MJOXDh52dUIc",
        "colab_type": "text"
      },
      "source": [
        "**Compile protobufs and install the object detection package**"
      ]
    },
    {
      "cell_type": "code",
      "metadata": {
        "id": "g7J5rd8odXgL",
        "colab_type": "code",
        "colab": {}
      },
      "source": [
        "%%bash\n",
        "cd models/research/\n",
        "protoc object_detection/protos/*.proto --python_out=."
      ],
      "execution_count": 0,
      "outputs": []
    },
    {
      "cell_type": "code",
      "metadata": {
        "id": "C3ZZFp3Nd0Jq",
        "colab_type": "code",
        "outputId": "55f3a5aa-7512-4e28-d715-ccc8025127f9",
        "colab": {
          "base_uri": "https://localhost:8080/",
          "height": 343
        }
      },
      "source": [
        "%%bash\n",
        "cd models/research\n",
        "pip install ."
      ],
      "execution_count": 4,
      "outputs": [
        {
          "output_type": "stream",
          "text": [
            "Processing /content/models/research\n",
            "Requirement already satisfied: Pillow>=1.0 in /usr/local/lib/python3.6/dist-packages (from object-detection==0.1) (7.0.0)\n",
            "Requirement already satisfied: Matplotlib>=2.1 in /usr/local/lib/python3.6/dist-packages (from object-detection==0.1) (3.2.1)\n",
            "Requirement already satisfied: Cython>=0.28.1 in /usr/local/lib/python3.6/dist-packages (from object-detection==0.1) (0.29.17)\n",
            "Requirement already satisfied: cycler>=0.10 in /usr/local/lib/python3.6/dist-packages (from Matplotlib>=2.1->object-detection==0.1) (0.10.0)\n",
            "Requirement already satisfied: pyparsing!=2.0.4,!=2.1.2,!=2.1.6,>=2.0.1 in /usr/local/lib/python3.6/dist-packages (from Matplotlib>=2.1->object-detection==0.1) (2.4.7)\n",
            "Requirement already satisfied: numpy>=1.11 in /usr/local/lib/python3.6/dist-packages (from Matplotlib>=2.1->object-detection==0.1) (1.18.3)\n",
            "Requirement already satisfied: python-dateutil>=2.1 in /usr/local/lib/python3.6/dist-packages (from Matplotlib>=2.1->object-detection==0.1) (2.8.1)\n",
            "Requirement already satisfied: kiwisolver>=1.0.1 in /usr/local/lib/python3.6/dist-packages (from Matplotlib>=2.1->object-detection==0.1) (1.2.0)\n",
            "Requirement already satisfied: six in /usr/local/lib/python3.6/dist-packages (from cycler>=0.10->Matplotlib>=2.1->object-detection==0.1) (1.12.0)\n",
            "Building wheels for collected packages: object-detection\n",
            "  Building wheel for object-detection (setup.py): started\n",
            "  Building wheel for object-detection (setup.py): finished with status 'done'\n",
            "  Created wheel for object-detection: filename=object_detection-0.1-cp36-none-any.whl size=1017525 sha256=782549099055a1ab05cc21212858fbe9708c531c1cb9e9fae9671749e81baa2a\n",
            "  Stored in directory: /tmp/pip-ephem-wheel-cache-h6hsi15s/wheels/94/49/4b/39b051683087a22ef7e80ec52152a27249d1a644ccf4e442ea\n",
            "Successfully built object-detection\n",
            "Installing collected packages: object-detection\n",
            "Successfully installed object-detection-0.1\n"
          ],
          "name": "stdout"
        }
      ]
    },
    {
      "cell_type": "code",
      "metadata": {
        "id": "xtPa7W1pd7cO",
        "colab_type": "code",
        "colab": {}
      },
      "source": [
        "import numpy as np\n",
        "import os\n",
        "import six.moves.urllib as urllib\n",
        "import sys\n",
        "import tarfile\n",
        "import tensorflow as tf\n",
        "import zipfile\n",
        "\n",
        "from collections import defaultdict\n",
        "from io import StringIO\n",
        "from matplotlib import pyplot as plt\n",
        "from PIL import Image\n",
        "from IPython.display import display"
      ],
      "execution_count": 0,
      "outputs": []
    },
    {
      "cell_type": "markdown",
      "metadata": {
        "id": "tW9Zdv4meo54",
        "colab_type": "text"
      },
      "source": [
        "**Import the Object Detection module**"
      ]
    },
    {
      "cell_type": "code",
      "metadata": {
        "id": "rSVSsCQheuiI",
        "colab_type": "code",
        "colab": {}
      },
      "source": [
        "from object_detection.utils import ops as utils_ops\n",
        "from object_detection.utils import label_map_util\n",
        "from object_detection.utils import visualization_utils as vis_util"
      ],
      "execution_count": 0,
      "outputs": []
    },
    {
      "cell_type": "markdown",
      "metadata": {
        "id": "N7y9F6jufB88",
        "colab_type": "text"
      },
      "source": [
        "# Model Preparation\n",
        "\n",
        "### Variables\n",
        "Any model exported using the export_inference_graph.py tool can be loaded here simply by changing the path.\n",
        "\n",
        "For this example we use an SSD with MobileNet model. See detection model zooo for list of models that can be run out-of-the-box.\n",
        "\n",
        "### Loader"
      ]
    },
    {
      "cell_type": "code",
      "metadata": {
        "id": "K8dVvpfbfsZ1",
        "colab_type": "code",
        "colab": {}
      },
      "source": [
        "def load_model(model_name):\n",
        "  base_url = \"http://download.tensorflow.org/models/object_detection/\"\n",
        "  model_file = model_name + '.tar.gz'\n",
        "  model_dir = tf.keras.utils.get_file(\n",
        "      fname = model_name,\n",
        "      origin = base_url + model_file,\n",
        "      untar = True\n",
        "  )\n",
        "  model_dir = pathlib.Path(model_dir)/\"saved_model\"\n",
        "\n",
        "  model = tf.saved_model.load(str(model_dir))\n",
        "  model = model.signatures['serving_default']"
      ],
      "execution_count": 0,
      "outputs": []
    },
    {
      "cell_type": "code",
      "metadata": {
        "id": "2bwAjDteCYYt",
        "colab_type": "code",
        "colab": {}
      },
      "source": [
        "# patches\n",
        "\n",
        "# patch tf1 into utils.ops\n",
        "utils_ops.tf = tf.compat.v1\n",
        "\n",
        "# patch location of gfile\n",
        "tf.gfile = tf.io.gfile"
      ],
      "execution_count": 0,
      "outputs": []
    },
    {
      "cell_type": "markdown",
      "metadata": {
        "id": "ohCVNi5m_8SY",
        "colab_type": "text"
      },
      "source": [
        "# Loading Label Map\n",
        "\n",
        "Maps inidces to category names, so for example when our convolution network predicts 5 we know that corresponds to airplane. This example uses internal functions, but anything that returns a dictionary mapping ints to the appropriate string label works fine."
      ]
    },
    {
      "cell_type": "code",
      "metadata": {
        "id": "SQSP5zDXAcqA",
        "colab_type": "code",
        "colab": {}
      },
      "source": [
        "# List of strings that is used to add the correct label for each box.\n",
        "PATH_TO_LABELS = 'models/research/object_detection/data/mscoco_label_map.pbtxt'\n",
        "category_index = label_map_util.create_category_index_from_labelmap(PATH_TO_LABELS, use_display_name=True)"
      ],
      "execution_count": 0,
      "outputs": []
    },
    {
      "cell_type": "markdown",
      "metadata": {
        "id": "4w-LHWZ-BDQH",
        "colab_type": "text"
      },
      "source": [
        "**Test on 2 images**\n",
        "\n",
        "**To test the code with other images, just add path to the images to the TEST_IMAGE_PATHS.**"
      ]
    },
    {
      "cell_type": "code",
      "metadata": {
        "id": "UgzeErQ6C3xN",
        "colab_type": "code",
        "colab": {
          "base_uri": "https://localhost:8080/",
          "height": 51
        },
        "outputId": "384e28d8-1bdd-44f8-e2e9-6b0cc24540a1"
      },
      "source": [
        "PATH_TO_TEST_IMAGES_DIR = pathlib.Path('models/research/object_detection/test_images')\n",
        "TEST_IMAGE_PATHS = sorted(list(PATH_TO_TEST_IMAGES_DIR.glob(\"*.jpg\")))\n",
        "TEST_IMAGE_PATHS"
      ],
      "execution_count": 14,
      "outputs": [
        {
          "output_type": "execute_result",
          "data": {
            "text/plain": [
              "[PosixPath('models/research/object_detection/test_images/image1.jpg'),\n",
              " PosixPath('models/research/object_detection/test_images/image2.jpg')]"
            ]
          },
          "metadata": {
            "tags": []
          },
          "execution_count": 14
        }
      ]
    },
    {
      "cell_type": "markdown",
      "metadata": {
        "id": "8jie8pqrD4oh",
        "colab_type": "text"
      },
      "source": [
        "# Detection\n",
        "\n",
        "**Load an object detection model**"
      ]
    },
    {
      "cell_type": "code",
      "metadata": {
        "id": "fA8m1bB4DvMi",
        "colab_type": "code",
        "colab": {
          "base_uri": "https://localhost:8080/",
          "height": 88
        },
        "outputId": "6d22f339-f39d-45b8-d969-8f99ed335f0d"
      },
      "source": [
        "model_name = 'ssd_mobilenet_v1_coco_2017_11_17'\n",
        "detection_model = load_model(model_name)"
      ],
      "execution_count": 15,
      "outputs": [
        {
          "output_type": "stream",
          "text": [
            "Downloading data from http://download.tensorflow.org/models/object_detection/ssd_mobilenet_v1_coco_2017_11_17.tar.gz\n",
            "76537856/76534733 [==============================] - 1s 0us/step\n",
            "INFO:tensorflow:Saver not created because there are no variables in the graph to restore\n"
          ],
          "name": "stdout"
        }
      ]
    },
    {
      "cell_type": "code",
      "metadata": {
        "id": "_mRVmk7rEbJx",
        "colab_type": "code",
        "colab": {
          "base_uri": "https://localhost:8080/",
          "height": 164
        },
        "outputId": "eb74d3dc-8755-4c7a-9595-2de506f365e4"
      },
      "source": [
        "# Check model's input signature - it expects a batch of 3-color images of type uint8\n",
        "print(detection_model.inputs)"
      ],
      "execution_count": 17,
      "outputs": [
        {
          "output_type": "error",
          "ename": "AttributeError",
          "evalue": "ignored",
          "traceback": [
            "\u001b[0;31m---------------------------------------------------------------------------\u001b[0m",
            "\u001b[0;31mAttributeError\u001b[0m                            Traceback (most recent call last)",
            "\u001b[0;32m<ipython-input-17-83a34913629d>\u001b[0m in \u001b[0;36m<module>\u001b[0;34m()\u001b[0m\n\u001b[0;32m----> 1\u001b[0;31m \u001b[0mprint\u001b[0m\u001b[0;34m(\u001b[0m\u001b[0mdetection_model\u001b[0m\u001b[0;34m.\u001b[0m\u001b[0minputs\u001b[0m\u001b[0;34m)\u001b[0m\u001b[0;34m\u001b[0m\u001b[0;34m\u001b[0m\u001b[0m\n\u001b[0m",
            "\u001b[0;31mAttributeError\u001b[0m: 'NoneType' object has no attribute 'inputs'"
          ]
        }
      ]
    },
    {
      "cell_type": "markdown",
      "metadata": {
        "id": "RB9yFZDSES_3",
        "colab_type": "text"
      },
      "source": [
        ""
      ]
    },
    {
      "cell_type": "code",
      "metadata": {
        "id": "w_8rgC0HEO0h",
        "colab_type": "code",
        "colab": {}
      },
      "source": [
        ""
      ],
      "execution_count": 0,
      "outputs": []
    }
  ]
}