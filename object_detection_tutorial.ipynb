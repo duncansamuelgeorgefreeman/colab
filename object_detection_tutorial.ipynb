{
  "nbformat": 4,
  "nbformat_minor": 0,
  "metadata": {
    "colab": {
      "name": "Copy of object_detection_tutorial.ipynb",
      "provenance": [],
      "authorship_tag": "ABX9TyOm+s8z4FIDriInRJsveIrP",
      "include_colab_link": true
    },
    "kernelspec": {
      "name": "python3",
      "display_name": "Python 3"
    }
  },
  "cells": [
    {
      "cell_type": "markdown",
      "metadata": {
        "id": "view-in-github",
        "colab_type": "text"
      },
      "source": [
        "<a href=\"https://colab.research.google.com/github/duncansamuelgeorgefreeman/colab/blob/master/object_detection_tutorial.ipynb\" target=\"_parent\"><img src=\"https://colab.research.google.com/assets/colab-badge.svg\" alt=\"Open In Colab\"/></a>"
      ]
    },
    {
      "cell_type": "code",
      "metadata": {
        "id": "poUV9qRUatHS",
        "colab_type": "code",
        "colab": {}
      },
      "source": [
        "import os\n",
        "import pathlib"
      ],
      "execution_count": 0,
      "outputs": []
    },
    {
      "cell_type": "code",
      "metadata": {
        "id": "o8rzjAwvbSyV",
        "colab_type": "code",
        "colab": {}
      },
      "source": [
        ""
      ],
      "execution_count": 0,
      "outputs": []
    },
    {
      "cell_type": "markdown",
      "metadata": {
        "id": "PCNjVphYbUJl",
        "colab_type": "text"
      },
      "source": [
        "**Get tensorflow/models or cd to parent directory of repository.**"
      ]
    },
    {
      "cell_type": "code",
      "metadata": {
        "id": "c8UU8kVPbcnS",
        "colab_type": "code",
        "outputId": "b77162bb-9052-48f7-ce5c-179be5ce8caa",
        "colab": {
          "base_uri": "https://localhost:8080/",
          "height": 153
        }
      },
      "source": [
        "if \"models\" in pathlib.Path.cwd().parts:\n",
        "  while \"models\" in pathlib.Path.cwd().parts:\n",
        "    os.chdir('..')\n",
        "elif not pathlib.Path(\"models\").exists():\n",
        "    !git clone --depth 1 https://github.com/tensorflow/models"
      ],
      "execution_count": 0,
      "outputs": [
        {
          "output_type": "stream",
          "text": [
            "Cloning into 'models'...\n",
            "remote: Enumerating objects: 2590, done.\u001b[K\n",
            "remote: Counting objects: 100% (2590/2590), done.\u001b[K\n",
            "remote: Compressing objects: 100% (2257/2257), done.\u001b[K\n",
            "remote: Total 2590 (delta 504), reused 1360 (delta 295), pack-reused 0\u001b[K\n",
            "Receiving objects: 100% (2590/2590), 124.10 MiB | 32.47 MiB/s, done.\n",
            "Resolving deltas: 100% (504/504), done.\n",
            "Checking out files: 100% (2497/2497), done.\n"
          ],
          "name": "stdout"
        }
      ]
    },
    {
      "cell_type": "markdown",
      "metadata": {
        "id": "MJOXDh52dUIc",
        "colab_type": "text"
      },
      "source": [
        "**Compile protobufs and install the object detection package**"
      ]
    },
    {
      "cell_type": "code",
      "metadata": {
        "id": "g7J5rd8odXgL",
        "colab_type": "code",
        "colab": {}
      },
      "source": [
        "%%bash\n",
        "cd models/research/\n",
        "protoc object_detection/protos/*.proto --python_out=."
      ],
      "execution_count": 0,
      "outputs": []
    },
    {
      "cell_type": "code",
      "metadata": {
        "id": "C3ZZFp3Nd0Jq",
        "colab_type": "code",
        "outputId": "1d646dcd-ebb6-4e83-fde7-1a4659228161",
        "colab": {
          "base_uri": "https://localhost:8080/",
          "height": 343
        }
      },
      "source": [
        "%%bash\n",
        "cd models/research\n",
        "pip install ."
      ],
      "execution_count": 0,
      "outputs": [
        {
          "output_type": "stream",
          "text": [
            "Processing /content/models/research\n",
            "Requirement already satisfied: Pillow>=1.0 in /usr/local/lib/python3.6/dist-packages (from object-detection==0.1) (7.0.0)\n",
            "Requirement already satisfied: Matplotlib>=2.1 in /usr/local/lib/python3.6/dist-packages (from object-detection==0.1) (3.2.1)\n",
            "Requirement already satisfied: Cython>=0.28.1 in /usr/local/lib/python3.6/dist-packages (from object-detection==0.1) (0.29.17)\n",
            "Requirement already satisfied: pyparsing!=2.0.4,!=2.1.2,!=2.1.6,>=2.0.1 in /usr/local/lib/python3.6/dist-packages (from Matplotlib>=2.1->object-detection==0.1) (2.4.7)\n",
            "Requirement already satisfied: cycler>=0.10 in /usr/local/lib/python3.6/dist-packages (from Matplotlib>=2.1->object-detection==0.1) (0.10.0)\n",
            "Requirement already satisfied: kiwisolver>=1.0.1 in /usr/local/lib/python3.6/dist-packages (from Matplotlib>=2.1->object-detection==0.1) (1.2.0)\n",
            "Requirement already satisfied: python-dateutil>=2.1 in /usr/local/lib/python3.6/dist-packages (from Matplotlib>=2.1->object-detection==0.1) (2.8.1)\n",
            "Requirement already satisfied: numpy>=1.11 in /usr/local/lib/python3.6/dist-packages (from Matplotlib>=2.1->object-detection==0.1) (1.18.3)\n",
            "Requirement already satisfied: six in /usr/local/lib/python3.6/dist-packages (from cycler>=0.10->Matplotlib>=2.1->object-detection==0.1) (1.12.0)\n",
            "Building wheels for collected packages: object-detection\n",
            "  Building wheel for object-detection (setup.py): started\n",
            "  Building wheel for object-detection (setup.py): finished with status 'done'\n",
            "  Created wheel for object-detection: filename=object_detection-0.1-cp36-none-any.whl size=1017525 sha256=6b7279a74b6b3e10ad2bc0eaa16b4c242a725bd4efd0dd6234f1c0423298a27f\n",
            "  Stored in directory: /tmp/pip-ephem-wheel-cache-6zb07f02/wheels/94/49/4b/39b051683087a22ef7e80ec52152a27249d1a644ccf4e442ea\n",
            "Successfully built object-detection\n",
            "Installing collected packages: object-detection\n",
            "Successfully installed object-detection-0.1\n"
          ],
          "name": "stdout"
        }
      ]
    },
    {
      "cell_type": "code",
      "metadata": {
        "id": "xtPa7W1pd7cO",
        "colab_type": "code",
        "colab": {}
      },
      "source": [
        "import numpy as np\n",
        "import os\n",
        "import six.moves.urllib as urllib\n",
        "import sys\n",
        "import tarfile\n",
        "import tensorflow as tf\n",
        "import zipfile\n",
        "\n",
        "from collections import defaultdict\n",
        "from io import StringIO\n",
        "from matplotlib import pyplot as plt\n",
        "from PIL import Image\n",
        "from IPython.display import display"
      ],
      "execution_count": 0,
      "outputs": []
    },
    {
      "cell_type": "markdown",
      "metadata": {
        "id": "tW9Zdv4meo54",
        "colab_type": "text"
      },
      "source": [
        "**Import the Object Detection module**"
      ]
    },
    {
      "cell_type": "code",
      "metadata": {
        "id": "rSVSsCQheuiI",
        "colab_type": "code",
        "colab": {}
      },
      "source": [
        "from object_detection.utils import ops as utils_ops\n",
        "from object_detection.utils import label_map_util\n",
        "from object_detection.utils import visualization_utils as vis_util"
      ],
      "execution_count": 0,
      "outputs": []
    },
    {
      "cell_type": "markdown",
      "metadata": {
        "id": "N7y9F6jufB88",
        "colab_type": "text"
      },
      "source": [
        "# Model Preparation\n",
        "\n",
        "### Variables\n",
        "Any model exported using the export_inference_graph.py tool can be loaded here simply by changing the path.\n",
        "\n",
        "For this example we use an SSD with MobileNet model. See detection model zooo for list of models that can be run out-of-the-box.\n",
        "\n",
        "### Loader"
      ]
    },
    {
      "cell_type": "code",
      "metadata": {
        "id": "K8dVvpfbfsZ1",
        "colab_type": "code",
        "colab": {}
      },
      "source": [
        "def load_model(model_name):\n",
        "  base_url = \"http://download.tensorflow.org/models/object_detection/\"\n",
        "  model_file = model_name + '.tar.gz'\n",
        "  model_dir = tf.keras.utils.get_file(\n",
        "      fname = model_name,\n",
        "      origin = base_url = model_file,\n",
        "      untar = True\n",
        "  )\n",
        "  "
      ],
      "execution_count": 0,
      "outputs": []
    }
  ]
}