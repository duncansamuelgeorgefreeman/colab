{
  "nbformat": 4,
  "nbformat_minor": 0,
  "metadata": {
    "colab": {
      "name": "LayoutLM_1",
      "provenance": [],
      "authorship_tag": "ABX9TyNZ/8sUu1N7eC5k84/fJifv",
      "include_colab_link": true
    },
    "kernelspec": {
      "name": "python3",
      "display_name": "Python 3"
    }
  },
  "cells": [
    {
      "cell_type": "markdown",
      "metadata": {
        "id": "view-in-github",
        "colab_type": "text"
      },
      "source": [
        "<a href=\"https://colab.research.google.com/github/duncansamuelgeorgefreeman/colab/blob/master/LayoutLM_1.ipynb\" target=\"_parent\"><img src=\"https://colab.research.google.com/assets/colab-badge.svg\" alt=\"Open In Colab\"/></a>"
      ]
    },
    {
      "cell_type": "code",
      "metadata": {
        "id": "HrcXTiwDTGqH"
      },
      "source": [
        "! rm -r unilm\n",
        "! git clone -b remove_torch_save https://github.com/NielsRogge/unilm.git\n",
        "! cd unilm/layoutlm\n",
        "! pip install unilm/layoutlm"
      ],
      "execution_count": null,
      "outputs": []
    },
    {
      "cell_type": "code",
      "metadata": {
        "id": "7VoLiXZzTg-H"
      },
      "source": [
        "! rm -r transformers\n",
        "! git clone https://github.com/huggingface/transformers.git\n",
        "! cd transformers\n",
        "! pip install ./transformers"
      ],
      "execution_count": null,
      "outputs": []
    },
    {
      "cell_type": "code",
      "metadata": {
        "id": "FWbFRxo0Tpr2"
      },
      "source": [
        "! wget https://guillaumejaume.github.io/FUNSD/dataset.zip\n",
        "! unzip dataset.zip && mv dataset data && rm -rf dataset.zip __MACOSX"
      ],
      "execution_count": null,
      "outputs": []
    },
    {
      "cell_type": "code",
      "metadata": {
        "id": "Y9OXdW1BTubE"
      },
      "source": [
        "! pwd"
      ],
      "execution_count": null,
      "outputs": []
    },
    {
      "cell_type": "code",
      "metadata": {
        "id": "bSeBsz6kT22X"
      },
      "source": [
        "! ls"
      ],
      "execution_count": null,
      "outputs": []
    },
    {
      "cell_type": "code",
      "metadata": {
        "id": "rtJFejtmUJ-l"
      },
      "source": [
        "! ls /content/data/training_data/images/"
      ],
      "execution_count": null,
      "outputs": []
    },
    {
      "cell_type": "code",
      "metadata": {
        "id": "NGiHCaPbUTPU"
      },
      "source": [
        "from PIL import Image, ImageDraw, ImageFont\n",
        "\n",
        "img1 = Image.open(\"/content/data/training_data/images/0000990274.png\").convert(\"RGB\")\n",
        "img1"
      ],
      "execution_count": null,
      "outputs": []
    },
    {
      "cell_type": "code",
      "metadata": {
        "id": "3CYeSvb7Vh9Y"
      },
      "source": [
        "# Plot Annotations: \n",
        "## Each annotation has a label, bbox, one or more words (with their own bbox). BBOX Format [xleft, ytop, xright, ybottom]\n",
        "### Annotations are contained in training_data/annotations/docname.json\n",
        "#### Access the annotation data under item[\"form\"]"
      ],
      "execution_count": null,
      "outputs": []
    },
    {
      "cell_type": "code",
      "metadata": {
        "id": "1obU8gMcWGIY"
      },
      "source": [
        "import json\n",
        "\n",
        "with open(\"/content/data/training_data/annotations/0000990274.json\") as f:\n",
        "  anno_data = json.load(f)\n",
        "\n",
        "for annotation in anno_data[\"form\"]:\n",
        "  print(annotation)"
      ],
      "execution_count": null,
      "outputs": []
    },
    {
      "cell_type": "code",
      "metadata": {
        "id": "fXibOng5XN7C"
      },
      "source": [
        "draw = ImageDraw.Draw(img1, \"RGBA\")\n",
        "font = ImageFont.load_default()\n",
        "label_colors_dict = {'question':'blue', 'answer':'green', 'header':'orange', 'other':'violet'}\n",
        "\n",
        "for annotation in anno_data[\"form\"]:\n",
        "  label = annotation['label']\n",
        "  bbox = annotation['box']\n",
        "  draw.rectangle(bbox, outline=label_colors_dict[label], width=2)\n",
        "  # ytop=yposition from top of document - ((xleft + 10, ytop - 10\n",
        "  draw.text((bbox[0] + 10, bbox[1] - 12), label, fill=label_colors_dict[label], font=font)\n",
        "  for word in annotation['words']:\n",
        "    word_bbox = word['box']\n",
        "    draw.rectangle(word_bbox, outline=label_colors_dict[label], width=1)\n",
        "\n",
        "img1"
      ],
      "execution_count": null,
      "outputs": []
    },
    {
      "cell_type": "markdown",
      "metadata": {
        "id": "A_fvOP7XbMk4"
      },
      "source": [
        "### Preprocessing Data\n",
        "\n",
        "Turn document images into individual tokens and corresponding labels (**BIOES** format):\n",
        "\n",
        "**B**egin\n",
        "**I**nside\n",
        "**O**utside\n",
        "**E**nd \n",
        "**S**ingle\n",
        "\n",
        "Example:  \n",
        "\n",
        "Alex S-PER  \n",
        "is O  \n",
        "playing O\n",
        "\n",
        "basketball I-SPORT\n",
        "\n",
        "with O\n",
        "\n",
        "Marty B-PER\n",
        "\n",
        ". O\n",
        "\n",
        "Rick E-PER\n",
        "\n",
        "likes O\n",
        "\n",
        "to O\n",
        "\n",
        "eat O\n",
        "\n",
        "Pizza I-FOOD\n",
        "\n",
        "in O\n",
        "\n",
        "Los B-LOC\n",
        "\n",
        "Angeles E-LOC"
      ]
    },
    {
      "cell_type": "code",
      "metadata": {
        "id": "Jj2uAzzGa_0N"
      },
      "source": [
        "! ls"
      ],
      "execution_count": null,
      "outputs": []
    },
    {
      "cell_type": "code",
      "metadata": {
        "id": "qMa7SE_EeMu0"
      },
      "source": [
        "! python unilm/layoutlm/examples/seq_labeling/preprocess.py --data_dir data/training_data/annotations \\\n",
        "                                                      --data_split train \\\n",
        "                                                      --output_dir data \\\n",
        "                                                      --model_name_or_path microsoft/layoutlm-base-uncased \\\n",
        "                                                      --max_len 510\n",
        "\n",
        "! python unilm/layoutlm/examples/seq_labeling/preprocess.py --data_dir data/testing_data/annotations \\\n",
        "                                                      --data_split test \\\n",
        "                                                      --output_dir data \\\n",
        "                                                      --model_name_or_path microsoft/layoutlm-base-uncased \\\n",
        "                                                      --max_len 510"
      ],
      "execution_count": null,
      "outputs": []
    },
    {
      "cell_type": "code",
      "metadata": {
        "id": "BGL43Lb-fI4L"
      },
      "source": [
        "# Create labels.txt file containing the unique labels of the FUNSD dataset:\n",
        "! cat data/train.txt | cut -d$'\\t' -f 2 | grep -v \"^$\"| sort | uniq > data/labels.txt"
      ],
      "execution_count": null,
      "outputs": []
    },
    {
      "cell_type": "code",
      "metadata": {
        "id": "uogwgTCyfVyX"
      },
      "source": [
        "ls data/"
      ],
      "execution_count": null,
      "outputs": []
    },
    {
      "cell_type": "code",
      "metadata": {
        "id": "tpPO_DoziSNV"
      },
      "source": [
        "with open(\"/content/data/labels.txt\", \"r\") as f:\n",
        "  labels = f.read().splitlines()\n",
        "  print(labels)"
      ],
      "execution_count": null,
      "outputs": []
    },
    {
      "cell_type": "markdown",
      "metadata": {
        "id": "QI_5BC5Nhc_0"
      },
      "source": [
        "### Define a PyTorch Dataset\n",
        "\n",
        "1. Create a list containing unique labels contained in labels.txt"
      ]
    },
    {
      "cell_type": "code",
      "metadata": {
        "id": "D7OVNI6hfc35"
      },
      "source": [
        "from torch.nn import CrossEntropyLoss\n",
        "\n",
        "def get_labels(path):\n",
        "  with open(path, \"r\") as f:\n",
        "    labels = f.read().splitlines()\n",
        "  if \"O\" not in labels:\n",
        "    labels += [\"O\"]\n",
        "  return labels\n",
        "\n",
        "labels = get_labels(\"data/labels.txt\")\n",
        "num_labels = len(labels)\n",
        "label_map = {i: label for i, label in enumerate(labels)}\n",
        "\n",
        "pad_token_label_id = CrossEntropyLoss().ignore_index"
      ],
      "execution_count": null,
      "outputs": []
    },
    {
      "cell_type": "code",
      "metadata": {
        "id": "myTYrISJkCPo"
      },
      "source": [
        "print(labels)"
      ],
      "execution_count": null,
      "outputs": []
    },
    {
      "cell_type": "code",
      "metadata": {
        "id": "FQBm50tWkGXp"
      },
      "source": [
        ""
      ],
      "execution_count": null,
      "outputs": []
    }
  ]
}