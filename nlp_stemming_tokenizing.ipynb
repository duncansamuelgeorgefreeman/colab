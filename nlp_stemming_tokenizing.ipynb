{
  "nbformat": 4,
  "nbformat_minor": 0,
  "metadata": {
    "colab": {
      "name": "nlp_stemming_tokenizing.ipynb",
      "provenance": [],
      "authorship_tag": "ABX9TyNs3i+dLqZsKR/XUGW6yaZS",
      "include_colab_link": true
    },
    "kernelspec": {
      "name": "python3",
      "display_name": "Python 3"
    }
  },
  "cells": [
    {
      "cell_type": "markdown",
      "metadata": {
        "id": "view-in-github",
        "colab_type": "text"
      },
      "source": [
        "<a href=\"https://colab.research.google.com/github/duncansamuelgeorgefreeman/colab/blob/master/nlp_stemming_tokenizing.ipynb\" target=\"_parent\"><img src=\"https://colab.research.google.com/assets/colab-badge.svg\" alt=\"Open In Colab\"/></a>"
      ]
    },
    {
      "cell_type": "code",
      "metadata": {
        "id": "EXRvaevTy3eb"
      },
      "source": [
        "from nltk.stem.snowball import SnowballStemmer"
      ],
      "execution_count": 1,
      "outputs": []
    },
    {
      "cell_type": "code",
      "metadata": {
        "id": "MEP8ZMuJ08HB"
      },
      "source": [
        "stemmer = SnowballStemmer(\"english\")"
      ],
      "execution_count": 2,
      "outputs": []
    },
    {
      "cell_type": "code",
      "metadata": {
        "colab": {
          "base_uri": "https://localhost:8080/",
          "height": 37
        },
        "id": "6jvSNOvi1Evp",
        "outputId": "bbd8f66e-0f1d-4a0d-ae70-bd095bd58177"
      },
      "source": [
        "stemmer.stem(\"adjusting\")"
      ],
      "execution_count": 3,
      "outputs": [
        {
          "output_type": "execute_result",
          "data": {
            "application/vnd.google.colaboratory.intrinsic+json": {
              "type": "string"
            },
            "text/plain": [
              "'adjust'"
            ]
          },
          "metadata": {
            "tags": []
          },
          "execution_count": 3
        }
      ]
    },
    {
      "cell_type": "code",
      "metadata": {
        "colab": {
          "base_uri": "https://localhost:8080/"
        },
        "id": "otzJMcG91JNh",
        "outputId": "9c2a58d3-1e3a-48a2-887e-3fd84767dbf3"
      },
      "source": [
        "import nltk\n",
        "nltk.download(\"stopwords\")"
      ],
      "execution_count": 4,
      "outputs": [
        {
          "output_type": "stream",
          "text": [
            "[nltk_data] Downloading package stopwords to /root/nltk_data...\n",
            "[nltk_data]   Unzipping corpora/stopwords.zip.\n"
          ],
          "name": "stdout"
        },
        {
          "output_type": "execute_result",
          "data": {
            "text/plain": [
              "True"
            ]
          },
          "metadata": {
            "tags": []
          },
          "execution_count": 4
        }
      ]
    },
    {
      "cell_type": "code",
      "metadata": {
        "id": "8GyNwdCg1jRW"
      },
      "source": [
        "stemmer_sw = SnowballStemmer(\"english\", ignore_stopwords=True)"
      ],
      "execution_count": 6,
      "outputs": []
    },
    {
      "cell_type": "code",
      "metadata": {
        "colab": {
          "base_uri": "https://localhost:8080/",
          "height": 37
        },
        "id": "6DDBx5bo1zzM",
        "outputId": "4a6a70f8-582b-4eba-b74f-b7c104c5b7ca"
      },
      "source": [
        "stemmer_sw.stem(\"having\")"
      ],
      "execution_count": 7,
      "outputs": [
        {
          "output_type": "execute_result",
          "data": {
            "application/vnd.google.colaboratory.intrinsic+json": {
              "type": "string"
            },
            "text/plain": [
              "'having'"
            ]
          },
          "metadata": {
            "tags": []
          },
          "execution_count": 7
        }
      ]
    },
    {
      "cell_type": "markdown",
      "metadata": {
        "id": "0pMueR0q2RuD"
      },
      "source": [
        "Ignoring stopwords means ignoring most commonly used words (more focus will be given to words that define the task)."
      ]
    },
    {
      "cell_type": "code",
      "metadata": {
        "colab": {
          "base_uri": "https://localhost:8080/",
          "height": 37
        },
        "id": "l9EdPont2Dp0",
        "outputId": "635329fe-e175-4601-ed18-d8c4f893b1ce"
      },
      "source": [
        "stemmer_sw.stem(\"reacting\")"
      ],
      "execution_count": 8,
      "outputs": [
        {
          "output_type": "execute_result",
          "data": {
            "application/vnd.google.colaboratory.intrinsic+json": {
              "type": "string"
            },
            "text/plain": [
              "'react'"
            ]
          },
          "metadata": {
            "tags": []
          },
          "execution_count": 8
        }
      ]
    },
    {
      "cell_type": "code",
      "metadata": {
        "colab": {
          "base_uri": "https://localhost:8080/"
        },
        "id": "iLlBdygF2NYy",
        "outputId": "66ef171e-dfd4-4da7-94dd-973c7c327464"
      },
      "source": [
        "nltk.download(\"wordnet\")"
      ],
      "execution_count": 9,
      "outputs": [
        {
          "output_type": "stream",
          "text": [
            "[nltk_data] Downloading package wordnet to /root/nltk_data...\n",
            "[nltk_data]   Unzipping corpora/wordnet.zip.\n"
          ],
          "name": "stdout"
        },
        {
          "output_type": "execute_result",
          "data": {
            "text/plain": [
              "True"
            ]
          },
          "metadata": {
            "tags": []
          },
          "execution_count": 9
        }
      ]
    },
    {
      "cell_type": "code",
      "metadata": {
        "id": "TcSm_zyS7JqA"
      },
      "source": [
        "from nltk.stem import WordNetLemmatizer\n",
        "\n",
        "lemm = WordNetLemmatizer()"
      ],
      "execution_count": 11,
      "outputs": []
    },
    {
      "cell_type": "code",
      "metadata": {
        "colab": {
          "base_uri": "https://localhost:8080/",
          "height": 37
        },
        "id": "zOCnJxwZ7TAv",
        "outputId": "b6b4f456-3143-4016-a661-78b89976cced"
      },
      "source": [
        "lemm.lemmatize(\"fishing\")"
      ],
      "execution_count": 12,
      "outputs": [
        {
          "output_type": "execute_result",
          "data": {
            "application/vnd.google.colaboratory.intrinsic+json": {
              "type": "string"
            },
            "text/plain": [
              "'fishing'"
            ]
          },
          "metadata": {
            "tags": []
          },
          "execution_count": 12
        }
      ]
    },
    {
      "cell_type": "code",
      "metadata": {
        "colab": {
          "base_uri": "https://localhost:8080/",
          "height": 37
        },
        "id": "NN_Ssr4-7jRB",
        "outputId": "7609fdfd-4065-435d-ddad-2af955026b97"
      },
      "source": [
        "lemm.lemmatize(\"reacting\")"
      ],
      "execution_count": 14,
      "outputs": [
        {
          "output_type": "execute_result",
          "data": {
            "application/vnd.google.colaboratory.intrinsic+json": {
              "type": "string"
            },
            "text/plain": [
              "'reacting'"
            ]
          },
          "metadata": {
            "tags": []
          },
          "execution_count": 14
        }
      ]
    },
    {
      "cell_type": "code",
      "metadata": {
        "colab": {
          "base_uri": "https://localhost:8080/",
          "height": 37
        },
        "id": "ty1NuJxs7m61",
        "outputId": "dc124fdb-91eb-4b1d-bb55-c3362078423b"
      },
      "source": [
        "lemm.lemmatize(\"corpora\")"
      ],
      "execution_count": 15,
      "outputs": [
        {
          "output_type": "execute_result",
          "data": {
            "application/vnd.google.colaboratory.intrinsic+json": {
              "type": "string"
            },
            "text/plain": [
              "'corpus'"
            ]
          },
          "metadata": {
            "tags": []
          },
          "execution_count": 15
        }
      ]
    },
    {
      "cell_type": "code",
      "metadata": {
        "colab": {
          "base_uri": "https://localhost:8080/",
          "height": 37
        },
        "id": "fOx2GeI07xJG",
        "outputId": "c3ba3d44-0cbb-4368-d223-0b296e3b46a0"
      },
      "source": [
        "lemm.lemmatize(\"dogs\")"
      ],
      "execution_count": 17,
      "outputs": [
        {
          "output_type": "execute_result",
          "data": {
            "application/vnd.google.colaboratory.intrinsic+json": {
              "type": "string"
            },
            "text/plain": [
              "'dog'"
            ]
          },
          "metadata": {
            "tags": []
          },
          "execution_count": 17
        }
      ]
    },
    {
      "cell_type": "code",
      "metadata": {
        "id": "cz3YPdEX700o"
      },
      "source": [
        ""
      ],
      "execution_count": null,
      "outputs": []
    },
    {
      "cell_type": "markdown",
      "metadata": {
        "id": "Rg-Q8ofb79p1"
      },
      "source": [
        "We use stemmers/lemmatizer to reduce amount of training data required. "
      ]
    },
    {
      "cell_type": "markdown",
      "metadata": {
        "id": "ismE9UXb8Q8W"
      },
      "source": [
        "## Tokenization\n",
        "\n",
        "Divide sentence/word groupings into tokens e.g.\n",
        "\n",
        "Hi, how are you doing?\n",
        "(Hi,)(how)(are)(you)(doing)(?).    SPLIT ON SPACE e.g. s.split()\n",
        "\n"
      ]
    },
    {
      "cell_type": "code",
      "metadata": {
        "id": "Ez8sze-a8T2-"
      },
      "source": [
        "s = \"Hi, how are you doing today, man?\"\n",
        "s2 = \"Hi, how are you doing today, man?\""
      ],
      "execution_count": 21,
      "outputs": []
    },
    {
      "cell_type": "code",
      "metadata": {
        "colab": {
          "base_uri": "https://localhost:8080/"
        },
        "id": "htNpxbkpK7MW",
        "outputId": "a5226799-fbb4-4461-e0f9-f531a32f8dae"
      },
      "source": [
        "s.split(\" \")"
      ],
      "execution_count": 25,
      "outputs": [
        {
          "output_type": "execute_result",
          "data": {
            "text/plain": [
              "['Hi,', 'how', 'are', 'you', 'doing', 'today,', 'man?']"
            ]
          },
          "metadata": {
            "tags": []
          },
          "execution_count": 25
        }
      ]
    },
    {
      "cell_type": "code",
      "metadata": {
        "colab": {
          "base_uri": "https://localhost:8080/"
        },
        "id": "EbbhwwYRLfXl",
        "outputId": "b7d57a5d-001c-44d2-9701-f034c20c44b1"
      },
      "source": [
        "# regex to replace symbols/puncts with space.\n",
        "import re\n",
        "re.sub(r\"{^\\w]\", \" \", s).split()"
      ],
      "execution_count": 26,
      "outputs": [
        {
          "output_type": "execute_result",
          "data": {
            "text/plain": [
              "['Hi,', 'how', 'are', 'you', 'doing', 'today,', 'man?']"
            ]
          },
          "metadata": {
            "tags": []
          },
          "execution_count": 26
        }
      ]
    },
    {
      "cell_type": "code",
      "metadata": {
        "colab": {
          "base_uri": "https://localhost:8080/"
        },
        "id": "obbNM33FK96V",
        "outputId": "8ecd6abf-4021-45da-eb84-087b73645be3"
      },
      "source": [
        "nltk.download(\"punkt\")\n",
        "from nltk.tokenize import word_tokenize, wordpunct_tokenize, sent_tokenize"
      ],
      "execution_count": 32,
      "outputs": [
        {
          "output_type": "stream",
          "text": [
            "[nltk_data] Downloading package punkt to /root/nltk_data...\n",
            "[nltk_data]   Package punkt is already up-to-date!\n"
          ],
          "name": "stdout"
        }
      ]
    },
    {
      "cell_type": "code",
      "metadata": {
        "colab": {
          "base_uri": "https://localhost:8080/"
        },
        "id": "9Iv6A8ugMUgz",
        "outputId": "607ece6b-4406-4fcb-aeaf-0a0f33a3c2f5"
      },
      "source": [
        "word_tokenize(s)"
      ],
      "execution_count": 29,
      "outputs": [
        {
          "output_type": "execute_result",
          "data": {
            "text/plain": [
              "['Hi', ',', 'how', 'are', 'you', 'doing', 'today', ',', 'man', '?']"
            ]
          },
          "metadata": {
            "tags": []
          },
          "execution_count": 29
        }
      ]
    },
    {
      "cell_type": "code",
      "metadata": {
        "colab": {
          "base_uri": "https://localhost:8080/"
        },
        "id": "MpAjDMWYMetp",
        "outputId": "bd603bbb-6cca-4f00-e39c-7ce60e340d4d"
      },
      "source": [
        "wordpunct_tokenize(s)"
      ],
      "execution_count": 31,
      "outputs": [
        {
          "output_type": "execute_result",
          "data": {
            "text/plain": [
              "['Hi', ',', 'how', 'are', 'you', 'doing', 'today', ',', 'man', '?']"
            ]
          },
          "metadata": {
            "tags": []
          },
          "execution_count": 31
        }
      ]
    },
    {
      "cell_type": "code",
      "metadata": {
        "colab": {
          "base_uri": "https://localhost:8080/"
        },
        "id": "q9td2-UsM4N9",
        "outputId": "72c65bfc-26d2-43e1-f886-860f29ca9abc"
      },
      "source": [
        "s2 = \"Hi, how are you doing today? I'm doing great.\"\n",
        "sent_tokenize(s2)"
      ],
      "execution_count": 33,
      "outputs": [
        {
          "output_type": "execute_result",
          "data": {
            "text/plain": [
              "['Hi, how are you doing today?', \"I'm doing great.\"]"
            ]
          },
          "metadata": {
            "tags": []
          },
          "execution_count": 33
        }
      ]
    },
    {
      "cell_type": "code",
      "metadata": {
        "id": "3Oi2MuNnNUh6"
      },
      "source": [
        ""
      ],
      "execution_count": null,
      "outputs": []
    },
    {
      "cell_type": "markdown",
      "metadata": {
        "id": "6mAB9njyOBOb"
      },
      "source": [
        "## Byte Pair encoding"
      ]
    },
    {
      "cell_type": "code",
      "metadata": {
        "id": "81O33JIFOFGf"
      },
      "source": [
        "s2 = \"I went fishing last week.\"\n"
      ],
      "execution_count": null,
      "outputs": []
    }
  ]
}